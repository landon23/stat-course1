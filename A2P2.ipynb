{
 "cells": [
  {
   "cell_type": "markdown",
   "metadata": {},
   "source": [
    "This problem compares two sampling methods for constructing samples from a posterior distribution.  We observe samples from a multinomial distribution,\n",
    "\n",
    "$$(Y_1, Y_2, Y_3, Y_t) \\sim \\mathcal{M} \\left( n ; \\frac{1}{2}+ \\frac{\\theta}{4}, \\frac{1}{4} (1 - \\theta), \\frac{1}{4} (1 - \\theta), \\theta/4 \\right)$$.\n",
    "\n",
    "The prior distribution of $\\theta$ is the uniform distribution on the interval $(0, 1)$.  The log-posterior distribution is proportional to \n",
    "\n",
    "$$ \\log \\pi ( \\theta \\vert Y ) \\propto Y_1 \\log(2 + \\theta) + (Y_2 + Y_3 ) \\log(1- \\theta) + Y_4 \\log \\theta$$\n",
    "\n",
    "We have first implemented a rejection sampler.  In the next block we first sample $Y$ from the multinomial distribution with $\\theta_* = 0.2$ and $n=20$ and then sample from the posterior distribution.  We report the sample mean and plot the histogram of samples."
   ]
  },
  {
   "cell_type": "code",
   "execution_count": 31,
   "metadata": {},
   "outputs": [
    {
     "name": "stdout",
     "output_type": "stream",
     "text": [
      "The sampled Y values are: [17  8  4  1]\n",
      "Max time reached. 3444 samples were generated.\n",
      "Inner while loop iterations: 163970\n",
      "The sample mean is: 0.21\n"
     ]
    },
    {
     "data": {
      "image/png": "[encoded data removed]",
      "text/plain": [
       "<matplotlib.figure.Figure at 0x119000a90>"
      ]
     },
     "metadata": {},
     "output_type": "display_data"
    }
   ],
   "source": [
    "import numpy as np\n",
    "import sampling\n",
    "import matplotlib.pyplot as plt\n",
    "import imp\n",
    "imp.reload(sampling)\n",
    "\n",
    "n = 30\n",
    "thetastar=0.2\n",
    "prob = np.array([1/2+thetastar/4, 1/4*(1-thetastar), 1/4*(1-thetastar), thetastar/4])\n",
    "\n",
    "Y = np.random.multinomial(n, prob)\n",
    "print('The sampled Y values are:', Y)\n",
    "\n",
    "\n",
    "#sampling.rej_samples takes three arguments.  The multinomial sampling, and \n",
    "#then a maximum number of samples to generate, or a maximum time to run.  \n",
    "#The sampler terminates whichever comes first.\n",
    "\n",
    "X = sampling.rej_samples(Y, maxsamp=100000,maxtime=5)\n",
    "\n",
    "print('The sample mean is:', \"{0:.4f}\".format(np.mean(X)))\n",
    "\n",
    "plt.hist(X, 50, range=[0, 1], density=True)\n",
    "plt.show()\n",
    "\n",
    "\n"
   ]
  },
  {
   "cell_type": "markdown",
   "metadata": {},
   "source": [
    "We also can compare the sampler with the mode of the distribution:"
   ]
  },
  {
   "cell_type": "code",
   "execution_count": 32,
   "metadata": {},
   "outputs": [
    {
     "name": "stdout",
     "output_type": "stream",
     "text": [
      "The mode of the distribution is approximately: 0.157\n"
     ]
    }
   ],
   "source": [
    "xx = np.arange(0.001,0.999,0.001)\n",
    "mod = xx[np.argmax(sampling.logpx(Y,xx))]\n",
    "print('The mode of the distribution is approximately:', mod)"
   ]
  },
  {
   "cell_type": "markdown",
   "metadata": {},
   "source": [
    "We have also implemented an importance sampler.  It can take a maximum number of iterations to reach as well as a time limit over which to run.  The default is to not have a maximum number of iterations, as this does not have much to do with the effective sample size.\n",
    "\n",
    "The sampler returns samples and weights $(x_i, w_i)$.  There is an additional post-processing step attempting to avoid numerical overflow in the weights.  The effective sample size is\n",
    "$$\n",
    "ESS = \\frac{1}{\\sum_i w_i^2 }\n",
    "$$"
   ]
  },
  {
   "cell_type": "code",
   "execution_count": 41,
   "metadata": {},
   "outputs": [
    {
     "name": "stdout",
     "output_type": "stream",
     "text": [
      "56307 samples were generated with an ESS of 22058.94\n",
      "Additional post-processing time: 0.0020 seconds\n",
      "The sample mean is: 0.2098\n"
     ]
    }
   ],
   "source": [
    "imp.reload(sampling)\n",
    "[th,w] = sampling.imp_samples(Y,maxtime=5)\n",
    "print('The sample mean is:', \"{0:.4f}\".format(np.dot(th,w)))"
   ]
  },
  {
   "cell_type": "markdown",
   "metadata": {},
   "source": [
    "In the following experiment we increase $n$ and compare the number of samples generated by rejection sampling to the effective sampling size of importance sampling.  Each sampler is given equal computation time.\n",
    "\n",
    "We remark that as we increase $n$ we have chosen to couple the multinomial samples together in order to get smoother behavior."
   ]
  },
  {
   "cell_type": "code",
   "execution_count": 53,
   "metadata": {},
   "outputs": [
    {
     "data": {
      "image/png": "[encoded data removed]",
      "text/plain": [
       "<matplotlib.figure.Figure at 0x118f44668>"
      ]
     },
     "metadata": {},
     "output_type": "display_data"
    }
   ],
   "source": [
    "imp.reload(sampling)\n",
    "nvals = [10, 15, 20, 25, 30, 40, 50]\n",
    "comptime = 3\n",
    "nrej = np.array([])\n",
    "nimp = np.array([])\n",
    "for i in range(0,len(nvals)):\n",
    "    if i == 0:\n",
    "        YY = np.random.multinomial(nvals[i], prob)\n",
    "    else:\n",
    "        YY = YY + np.random.multinomial(nvals[i]-nvals[i-1], prob)\n",
    "    nrej = np.append(nrej,sampling.rej_samples(YY,maxtime=comptime, verbose = False).size)\n",
    "    [th,w]= sampling.imp_samples(YY, maxtime=comptime, verbose = False)\n",
    "    nimp=np.append(nimp, np.power(np.linalg.norm(w), -2))\n",
    "    \n",
    "plt.plot(nvals,nrej)\n",
    "plt.plot(nvals,nimp)\n",
    "plt.legend(['Rejection', 'Importance' ], loc='upper right')\n",
    "\n",
    "plt.show()\n"
   ]
  },
  {
   "cell_type": "markdown",
   "metadata": {},
   "source": [
    "In the following we compare the variances of the estimator of the mean produced by both sampling methods."
   ]
  },
  {
   "cell_type": "code",
   "execution_count": 54,
   "metadata": {},
   "outputs": [
    {
     "data": {
      "image/png": "[encoded data removed]",
      "text/plain": [
       "<matplotlib.figure.Figure at 0x118dceb38>"
      ]
     },
     "metadata": {},
     "output_type": "display_data"
    }
   ],
   "source": [
    "nrepeats = 10\n",
    "comptime = 0.5\n",
    "nvals = [10, 12, 14, 16, 18, 20]\n",
    "varrej = np.array([])\n",
    "varimp = np.array([])\n",
    "for i in range(0, len(nvals)):\n",
    "    if i == 0:\n",
    "        YY = np.random.multinomial(nvals[i], prob)\n",
    "    else:\n",
    "        YY = YY + np.random.multinomial(nvals[i]-nvals[i-1], prob)\n",
    "    xrej = np.array([])\n",
    "    ximp = np.array([])\n",
    "    for j in range(0, nrepeats):\n",
    "        xrej = np.append(xrej,sampling.rej_samples(YY,maxtime=comptime, verbose = False))\n",
    "        [th, w]=sampling.imp_samples(YY, maxtime=comptime, verbose = False)\n",
    "        ximp = np.append(ximp,np.dot(w,th))\n",
    "    varrej = np.append(varrej,np.var(xrej))\n",
    "    varimp = np.append(varimp,np.var(ximp))\n",
    "    \n",
    "plt.plot(nvals,varrej)\n",
    "plt.plot(nvals,varimp)\n",
    "plt.legend(['Rejection', 'Importance' ], loc='upper right')\n",
    "plt.show()\n",
    "    \n",
    "    \n",
    "    "
   ]
  },
  {
   "cell_type": "code",
   "execution_count": null,
   "metadata": {
    "collapsed": true
   },
   "outputs": [],
   "source": []
  }
 ],
 "metadata": {
  "kernelspec": {
   "display_name": "Python 3",
   "language": "python",
   "name": "python3"
  },
  "language_info": {
   "codemirror_mode": {
    "name": "ipython",
    "version": 3
   },
   "file_extension": ".py",
   "mimetype": "text/x-python",
   "name": "python",
   "nbconvert_exporter": "python",
   "pygments_lexer": "ipython3",
   "version": "3.6.3"
  }
 },
 "nbformat": 4,
 "nbformat_minor": 2
}
